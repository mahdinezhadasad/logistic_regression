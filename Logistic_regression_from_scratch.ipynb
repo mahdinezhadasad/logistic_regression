{
 "cells": [
  {
   "cell_type": "code",
   "execution_count": 2,
   "metadata": {},
   "outputs": [],
   "source": [
    "import numpy as np\n",
    "import pandas as pd\n",
    "import matplotlib.pyplot as plt\n",
    "\n",
    "\n",
    "data = pd.read_csv(\"data1.csv\")\n",
    "\n",
    "data.drop([\"id\",\"Unnamed: 32\"],axis=1,inplace=True)\n",
    "data.diagnosis = [1 if each == \"M\" else 0 for each in data.diagnosis]\n",
    "\n",
    "y=data.diagnosis.values\n",
    "x_data = data.drop([\"diagnosis\"],axis=1)"
   ]
  },
  {
   "cell_type": "code",
   "execution_count": 3,
   "metadata": {},
   "outputs": [],
   "source": [
    "x=(x_data-np.min(x_data))/(np.max(x_data)-np.min(x_data))\n",
    "\n",
    "from sklearn.model_selection import train_test_split\n",
    "\n",
    "x_train,x_test,y_train,y_test = train_test_split(x,y,test_size= 0.2 ,random_state=42)\n",
    "\n",
    "x_train=x_train.T\n",
    "x_test = x_test.T\n",
    "y_train = y_train.T\n",
    "y_test = y_test.T\n"
   ]
  },
  {
   "cell_type": "code",
   "execution_count": 4,
   "metadata": {},
   "outputs": [],
   "source": [
    "def inizalize_weight_bias(diemantion):\n",
    "    \n",
    "    w = np.full((diemantion,1),0.01)\n",
    "    b = 0.0\n",
    "    \n",
    "    return w,b\n",
    "\n",
    "def sigmoid(z):\n",
    "    y_head = 1/(1+np.exp(-z))\n",
    "    \n",
    "    return y_head"
   ]
  },
  {
   "cell_type": "code",
   "execution_count": 5,
   "metadata": {},
   "outputs": [],
   "source": [
    "def forward_bakward_propagation(w,b,x_train,y_train):\n",
    "    \n",
    "    z = np.dot(w.T,x_train)+b\n",
    "    y_head = sigmoid(z)\n",
    "    \n",
    "    loss = -y_train*np.log(y_head)-(1-y_train)*np.log(1-y_head)\n",
    "    cost = (np.sum(loss)/x_train.shape[1])\n",
    "    \n",
    "    derivative_weight = (np.dot(x_train,((y_head -y_train).T)))/x_train.shape[1]\n",
    "    derivative_bias = (np.sum(y_head -y_train)/x_train.shape[1])\n",
    "    \n",
    "    gradients = {\"derivative_weight\":derivative_weight,\"derivative_bias\":derivative_bias}\n",
    "    \n",
    "    return cost, gradients\n"
   ]
  },
  {
   "cell_type": "code",
   "execution_count": 6,
   "metadata": {},
   "outputs": [],
   "source": [
    "def update(w,b,x_train,y_train,learning_rate,number_of_iteration):\n",
    "    \n",
    "    cost_list=[]\n",
    "    cost_list2=[]\n",
    "    index=[]\n",
    "\n",
    "    for i in range (number_of_iteration):\n",
    "        \n",
    "        cost,gradients = forward_bakward_propagation(w,b,x_train,y_train)\n",
    "        cost_list.append(cost)\n",
    "        w = w-learning_rate*gradients[\"derivative_weight\"]\n",
    "        b = b-learning_rate*gradients[\"derivative_bias\"]\n",
    "        if i%10==0:\n",
    "            cost_list2.append(cost)\n",
    "            index.append(i)\n",
    "            print(\"cost after iterations %i:%f\" %(i,cost))\n",
    "            \n",
    "            \n",
    "            \n",
    "    parameters = {\"weight\":w,\"bias\" : b}\n",
    "    \n",
    "    plt.plot(index,cost_list2)\n",
    "    plt.xticks(index,rotation = \"vertical\" )\n",
    "    plt.xlabel(\"Number of iterations\")\n",
    "    plt.ylabel(\"cost\")\n",
    "    plt.show()\n",
    "    \n",
    "    return parameters , gradients, cost_list\n",
    "        "
   ]
  },
  {
   "cell_type": "code",
   "execution_count": 7,
   "metadata": {},
   "outputs": [],
   "source": [
    "def prediction(w,b,x_test):\n",
    "    \n",
    "    z=sigmoid(np.dot(w.T,x_test)+b)\n",
    "    Y_prediction = np.zeros(1,x_test.shape[1])\n",
    "    \n",
    "    \n",
    "    for i in range(z.shape[1]):\n",
    "        \n",
    "        if z[0,i]<0.5:\n",
    "            \n",
    "            Y_prediction[0,i] = 0\n",
    "        else:\n",
    "            Y_prediction[0,i] = 1\n",
    "            \n",
    "    return Y_prediction"
   ]
  },
  {
   "cell_type": "code",
   "execution_count": 8,
   "metadata": {},
   "outputs": [
    {
     "name": "stdout",
     "output_type": "stream",
     "text": [
      "cost after iterations 0:0.692977\n",
      "cost after iterations 10:0.499667\n",
      "cost after iterations 20:0.406616\n",
      "cost after iterations 30:0.351936\n",
      "cost after iterations 40:0.315762\n",
      "cost after iterations 50:0.289862\n",
      "cost after iterations 60:0.270257\n",
      "cost after iterations 70:0.254795\n",
      "cost after iterations 80:0.242214\n",
      "cost after iterations 90:0.231722\n",
      "cost after iterations 100:0.222796\n",
      "cost after iterations 110:0.215080\n",
      "cost after iterations 120:0.208317\n",
      "cost after iterations 130:0.202324\n",
      "cost after iterations 140:0.196961\n",
      "cost after iterations 150:0.192121\n",
      "cost after iterations 160:0.187722\n",
      "cost after iterations 170:0.183698\n",
      "cost after iterations 180:0.179997\n",
      "cost after iterations 190:0.176577\n",
      "cost after iterations 200:0.173402\n",
      "cost after iterations 210:0.170443\n",
      "cost after iterations 220:0.167676\n",
      "cost after iterations 230:0.165080\n",
      "cost after iterations 240:0.162638\n",
      "cost after iterations 250:0.160334\n",
      "cost after iterations 260:0.158155\n",
      "cost after iterations 270:0.156091\n",
      "cost after iterations 280:0.154131\n",
      "cost after iterations 290:0.152266\n",
      "cost after iterations 300:0.150490\n",
      "cost after iterations 310:0.148794\n",
      "cost after iterations 320:0.147173\n",
      "cost after iterations 330:0.145621\n",
      "cost after iterations 340:0.144134\n",
      "cost after iterations 350:0.142707\n",
      "cost after iterations 360:0.141336\n",
      "cost after iterations 370:0.140018\n",
      "cost after iterations 380:0.138749\n",
      "cost after iterations 390:0.137526\n",
      "cost after iterations 400:0.136346\n",
      "cost after iterations 410:0.135208\n",
      "cost after iterations 420:0.134108\n",
      "cost after iterations 430:0.133045\n",
      "cost after iterations 440:0.132016\n",
      "cost after iterations 450:0.131020\n",
      "cost after iterations 460:0.130055\n",
      "cost after iterations 470:0.129119\n",
      "cost after iterations 480:0.128212\n",
      "cost after iterations 490:0.127331\n"
     ]
    },
    {
     "data": {
      "image/png": "[encoded data removed]",
      "text/plain": [
       "<Figure size 432x288 with 1 Axes>"
      ]
     },
     "metadata": {},
     "output_type": "display_data"
    },
    {
     "ename": "TypeError",
     "evalue": "data type not understood",
     "output_type": "error",
     "traceback": [
      "\u001b[1;31m---------------------------------------------------------------------------\u001b[0m",
      "\u001b[1;31mTypeError\u001b[0m                                 Traceback (most recent call last)",
      "\u001b[1;32m<ipython-input-8-7926769c3254>\u001b[0m in \u001b[0;36m<module>\u001b[1;34m()\u001b[0m\n\u001b[0;32m     11\u001b[0m \u001b[1;33m\u001b[0m\u001b[0m\n\u001b[0;32m     12\u001b[0m \u001b[1;33m\u001b[0m\u001b[0m\n\u001b[1;32m---> 13\u001b[1;33m \u001b[0mlogistic_regression\u001b[0m\u001b[1;33m(\u001b[0m\u001b[0mx_train\u001b[0m\u001b[1;33m,\u001b[0m\u001b[0my_train\u001b[0m\u001b[1;33m,\u001b[0m\u001b[0mx_test\u001b[0m\u001b[1;33m,\u001b[0m\u001b[0my_test\u001b[0m\u001b[1;33m,\u001b[0m\u001b[1;36m1\u001b[0m\u001b[1;33m,\u001b[0m\u001b[1;36m500\u001b[0m\u001b[1;33m)\u001b[0m\u001b[1;33m\u001b[0m\u001b[0m\n\u001b[0m\u001b[0;32m     14\u001b[0m \u001b[1;33m\u001b[0m\u001b[0m\n\u001b[0;32m     15\u001b[0m \u001b[1;33m\u001b[0m\u001b[0m\n",
      "\u001b[1;32m<ipython-input-8-7926769c3254>\u001b[0m in \u001b[0;36mlogistic_regression\u001b[1;34m(x_train, y_train, x_test, y_test, learning_rate, number_of_iteration)\u001b[0m\n\u001b[0;32m      6\u001b[0m     \u001b[0mparameters\u001b[0m\u001b[1;33m,\u001b[0m \u001b[0mgradients\u001b[0m\u001b[1;33m,\u001b[0m \u001b[0mcost_list\u001b[0m \u001b[1;33m=\u001b[0m \u001b[0mupdate\u001b[0m\u001b[1;33m(\u001b[0m\u001b[0mw\u001b[0m\u001b[1;33m,\u001b[0m\u001b[0mb\u001b[0m\u001b[1;33m,\u001b[0m\u001b[0mx_train\u001b[0m\u001b[1;33m,\u001b[0m\u001b[0my_train\u001b[0m\u001b[1;33m,\u001b[0m\u001b[0mlearning_rate\u001b[0m\u001b[1;33m,\u001b[0m\u001b[0mnumber_of_iteration\u001b[0m\u001b[1;33m)\u001b[0m\u001b[1;33m\u001b[0m\u001b[0m\n\u001b[0;32m      7\u001b[0m \u001b[1;33m\u001b[0m\u001b[0m\n\u001b[1;32m----> 8\u001b[1;33m     \u001b[0my_prediction_test\u001b[0m \u001b[1;33m=\u001b[0m \u001b[0mprediction\u001b[0m\u001b[1;33m(\u001b[0m\u001b[0mparameters\u001b[0m\u001b[1;33m[\u001b[0m\u001b[1;34m\"weight\"\u001b[0m\u001b[1;33m]\u001b[0m\u001b[1;33m,\u001b[0m\u001b[0mparameters\u001b[0m\u001b[1;33m[\u001b[0m\u001b[1;34m\"bias\"\u001b[0m\u001b[1;33m]\u001b[0m\u001b[1;33m,\u001b[0m\u001b[0mx_test\u001b[0m\u001b[1;33m)\u001b[0m\u001b[1;33m\u001b[0m\u001b[0m\n\u001b[0m\u001b[0;32m      9\u001b[0m \u001b[1;33m\u001b[0m\u001b[0m\n\u001b[0;32m     10\u001b[0m     \u001b[0mprint\u001b[0m\u001b[1;33m(\u001b[0m\u001b[1;34m\"test_accuracy : {} %\"\u001b[0m\u001b[1;33m.\u001b[0m\u001b[0mformat\u001b[0m\u001b[1;33m(\u001b[0m\u001b[1;36m100\u001b[0m \u001b[1;33m-\u001b[0m\u001b[0mnp\u001b[0m\u001b[1;33m.\u001b[0m\u001b[0mmean\u001b[0m\u001b[1;33m(\u001b[0m\u001b[0mnp\u001b[0m\u001b[1;33m.\u001b[0m\u001b[0mabs\u001b[0m\u001b[1;33m(\u001b[0m\u001b[0my_prediction_test\u001b[0m \u001b[1;33m-\u001b[0m \u001b[0my_test\u001b[0m\u001b[1;33m)\u001b[0m\u001b[1;33m)\u001b[0m\u001b[1;33m*\u001b[0m\u001b[1;36m100\u001b[0m\u001b[1;33m)\u001b[0m\u001b[1;33m)\u001b[0m\u001b[1;33m\u001b[0m\u001b[0m\n",
      "\u001b[1;32m<ipython-input-7-7c57aa3c8e50>\u001b[0m in \u001b[0;36mprediction\u001b[1;34m(w, b, x_test)\u001b[0m\n\u001b[0;32m      2\u001b[0m \u001b[1;33m\u001b[0m\u001b[0m\n\u001b[0;32m      3\u001b[0m     \u001b[0mz\u001b[0m\u001b[1;33m=\u001b[0m\u001b[0msigmoid\u001b[0m\u001b[1;33m(\u001b[0m\u001b[0mnp\u001b[0m\u001b[1;33m.\u001b[0m\u001b[0mdot\u001b[0m\u001b[1;33m(\u001b[0m\u001b[0mw\u001b[0m\u001b[1;33m.\u001b[0m\u001b[0mT\u001b[0m\u001b[1;33m,\u001b[0m\u001b[0mx_test\u001b[0m\u001b[1;33m)\u001b[0m\u001b[1;33m+\u001b[0m\u001b[0mb\u001b[0m\u001b[1;33m)\u001b[0m\u001b[1;33m\u001b[0m\u001b[0m\n\u001b[1;32m----> 4\u001b[1;33m     \u001b[0mY_prediction\u001b[0m \u001b[1;33m=\u001b[0m \u001b[0mnp\u001b[0m\u001b[1;33m.\u001b[0m\u001b[0mzeros\u001b[0m\u001b[1;33m(\u001b[0m\u001b[1;36m1\u001b[0m\u001b[1;33m,\u001b[0m\u001b[0mx_test\u001b[0m\u001b[1;33m.\u001b[0m\u001b[0mshape\u001b[0m\u001b[1;33m[\u001b[0m\u001b[1;36m1\u001b[0m\u001b[1;33m]\u001b[0m\u001b[1;33m)\u001b[0m\u001b[1;33m\u001b[0m\u001b[0m\n\u001b[0m\u001b[0;32m      5\u001b[0m \u001b[1;33m\u001b[0m\u001b[0m\n\u001b[0;32m      6\u001b[0m \u001b[1;33m\u001b[0m\u001b[0m\n",
      "\u001b[1;31mTypeError\u001b[0m: data type not understood"
     ]
    }
   ],
   "source": [
    "def logistic_regression(x_train,y_train,x_test,y_test,learning_rate,number_of_iteration):\n",
    "    \n",
    "    diemantion = x_train.shape[0]\n",
    "    w,b = inizalize_weight_bias(diemantion)\n",
    "    \n",
    "    parameters, gradients, cost_list = update(w,b,x_train,y_train,learning_rate,number_of_iteration)\n",
    "    \n",
    "    y_prediction_test = prediction(parameters[\"weight\"],parameters[\"bias\"],x_test)\n",
    "    \n",
    "    print(\"test_accuracy : {} %\".format(100 -np.mean(np.abs(y_prediction_test - y_test))*100))\n",
    "    \n",
    "    \n",
    "logistic_regression(x_train,y_train,x_test,y_test,1,500)    \n",
    "    \n",
    "    "
   ]
  },
  {
   "cell_type": "code",
   "execution_count": null,
   "metadata": {},
   "outputs": [],
   "source": []
  }
 ],
 "metadata": {
  "kernelspec": {
   "display_name": "Python 3",
   "language": "python",
   "name": "python3"
  },
  "language_info": {
   "codemirror_mode": {
    "name": "ipython",
    "version": 3
   },
   "file_extension": ".py",
   "mimetype": "text/x-python",
   "name": "python",
   "nbconvert_exporter": "python",
   "pygments_lexer": "ipython3",
   "version": "3.6.5"
  }
 },
 "nbformat": 4,
 "nbformat_minor": 2
}
